{
 "cells": [
  {
   "cell_type": "code",
   "execution_count": 5,
   "metadata": {},
   "outputs": [],
   "source": [
    "from lxml import etree"
   ]
  },
  {
   "cell_type": "code",
   "execution_count": 6,
   "metadata": {},
   "outputs": [],
   "source": [
    "x = \"\"\"<uptime-information>\n",
    "            <date-time seconds=\"1498780787\">4:59PM</date-time>\n",
    "            <up-time seconds=\"14220\">3:57</up-time>\n",
    "            <active-user-count format=\"1 users\">1</active-user-count>\n",
    "            <load-average-1>4.29</load-average-1>\n",
    "            <load-average-5>3.81</load-average-5>\n",
    "            <load-average-15>3.72</load-average-15>\n",
    "        </uptime-information>\"\"\""
   ]
  },
  {
   "cell_type": "code",
   "execution_count": 9,
   "metadata": {},
   "outputs": [],
   "source": [
    "obj = etree.fromstring(x)"
   ]
  },
  {
   "cell_type": "code",
   "execution_count": 10,
   "metadata": {},
   "outputs": [
    {
     "data": {
      "text/plain": [
       "'4.29'"
      ]
     },
     "execution_count": 10,
     "metadata": {},
     "output_type": "execute_result"
    }
   ],
   "source": [
    "obj.findtext('load-average-1')"
   ]
  },
  {
   "cell_type": "code",
   "execution_count": 11,
   "metadata": {},
   "outputs": [
    {
     "data": {
      "text/plain": [
       "'1'"
      ]
     },
     "execution_count": 11,
     "metadata": {},
     "output_type": "execute_result"
    }
   ],
   "source": [
    "obj.findtext('active-user-count')"
   ]
  },
  {
   "cell_type": "code",
   "execution_count": 14,
   "metadata": {},
   "outputs": [],
   "source": [
    "x = \"\"\"\n",
    "<chassis-inventory>\n",
    "        <chassis>\n",
    "            <name>Chassis</name>\n",
    "            <serial-number>aaf5fe5f9b88</serial-number>\n",
    "            <description>FIREFLY-PERIMETER</description>\n",
    "            <chassis-module>\n",
    "                <name>Midplane</name>\n",
    "            </chassis-module>\n",
    "            <chassis-module>\n",
    "                <name>System IO</name>\n",
    "            </chassis-module>\n",
    "            <chassis-module>\n",
    "                <name>Routing Engine</name>\n",
    "                <description>FIREFLY-PERIMETER RE</description>\n",
    "            </chassis-module>\n",
    "            <chassis-module>\n",
    "                <name>FPC 0</name>\n",
    "                <description>Virtual FPC</description>\n",
    "                <chassis-sub-module>\n",
    "                    <name>PIC 0</name>\n",
    "                    <description>Virtual GE</description>\n",
    "                </chassis-sub-module>\n",
    "            </chassis-module>\n",
    "            <chassis-module>\n",
    "                <name>Power Supply 0</name>\n",
    "            </chassis-module>\n",
    "        </chassis>\n",
    "    </chassis-inventory>\"\"\""
   ]
  },
  {
   "cell_type": "code",
   "execution_count": 15,
   "metadata": {},
   "outputs": [],
   "source": [
    "obj = etree.fromstring(x)"
   ]
  },
  {
   "cell_type": "code",
   "execution_count": 16,
   "metadata": {},
   "outputs": [
    {
     "data": {
      "text/plain": [
       "<Element chassis-inventory at 0x11055c7c8>"
      ]
     },
     "execution_count": 16,
     "metadata": {},
     "output_type": "execute_result"
    }
   ],
   "source": [
    "obj"
   ]
  },
  {
   "cell_type": "code",
   "execution_count": 17,
   "metadata": {},
   "outputs": [
    {
     "data": {
      "text/plain": [
       "[<Element chassis at 0x10ff7c7c8>]"
      ]
     },
     "execution_count": 17,
     "metadata": {},
     "output_type": "execute_result"
    }
   ],
   "source": [
    "obj.xpath('chassis')"
   ]
  },
  {
   "cell_type": "code",
   "execution_count": 18,
   "metadata": {},
   "outputs": [
    {
     "data": {
      "text/plain": [
       "[<Element chassis-module at 0x110098608>,\n",
       " <Element chassis-module at 0x110098e08>,\n",
       " <Element chassis-module at 0x11017c4c8>,\n",
       " <Element chassis-module at 0x11017c388>,\n",
       " <Element chassis-module at 0x10ff6e608>]"
      ]
     },
     "execution_count": 18,
     "metadata": {},
     "output_type": "execute_result"
    }
   ],
   "source": [
    "obj.xpath('chassis/chassis-module')"
   ]
  },
  {
   "cell_type": "code",
   "execution_count": 20,
   "metadata": {},
   "outputs": [
    {
     "name": "stdout",
     "output_type": "stream",
     "text": [
      "Midplane\n",
      "System IO\n",
      "Routing Engine\n",
      "FPC 0\n",
      "Power Supply 0\n"
     ]
    }
   ],
   "source": [
    "for i in obj.xpath('chassis/chassis-module'):\n",
    "    print(i.findtext('name'))"
   ]
  },
  {
   "cell_type": "code",
   "execution_count": 25,
   "metadata": {},
   "outputs": [],
   "source": [
    "x = \"\"\"\n",
    "<interface-information>\n",
    "<physical-interface>\n",
    "            <name>ge-2/0/6</name>\n",
    "            <admin-status>up</admin-status>\n",
    "            <oper-status>down</oper-status>\n",
    "            <local-index>156</local-index>\n",
    "            <snmp-index>521</snmp-index>\n",
    "            <link-level-type>Ethernet</link-level-type>\n",
    "            <mtu>1514</mtu>\n",
    "            <sonet-mode>LAN-PHY</sonet-mode>\n",
    "            <mru>1522</mru>\n",
    "            <source-filtering>disabled</source-filtering>\n",
    "            <speed>1000mbps</speed>\n",
    "            <eth-switch-error>none</eth-switch-error>\n",
    "            <bpdu-error>none</bpdu-error>\n",
    "            <ld-pdu-error>none</ld-pdu-error>\n",
    "            <l2pt-error>none</l2pt-error>\n",
    "            <loopback>disabled</loopback>\n",
    "            <if-flow-control>enabled</if-flow-control>\n",
    "            <if-auto-negotiation>enabled</if-auto-negotiation>\n",
    "            <if-remote-fault>online</if-remote-fault>\n",
    "            <pad-to-minimum-frame-size>Disabled</pad-to-minimum-frame-size>\n",
    "\n",
    "            <if-device-flags>\n",
    "                <ifdf-present/>\n",
    "                <ifdf-running/>\n",
    "                <ifdf-down/>\n",
    "            </if-device-flags>\n",
    "            <if-config-flags>\n",
    "                <iff-hardware-down/>\n",
    "                <iff-snmp-traps/>\n",
    "                <internal-flags>0x4000</internal-flags>\n",
    "            </if-config-flags>\n",
    "            <if-media-flags>\n",
    "                <ifmf-none/>\n",
    "            </if-media-flags>\n",
    "            <physical-interface-cos-information>\n",
    "                <physical-interface-cos-hw-max-queues>8</physical-interface-cos-hw-max-queues>\n",
    "                <physical-interface-cos-use-max-queues>8</physical-interface-cos-use-max-queues>\n",
    "            </physical-interface-cos-information>\n",
    "            <current-physical-address>3c:61:04:41:7d:30</current-physical-address>\n",
    "            <hardware-physical-address>3c:61:04:41:7d:30</hardware-physical-address>\n",
    "            <interface-flapped>2019-07-23 01:40:06 UTC (03:05:07 ago)</interface-flapped>\n",
    "            <traffic-statistics>\n",
    "                <input-bps>0</input-bps>\n",
    "                <input-pps>0</input-pps>\n",
    "                <output-bps>0</output-bps>\n",
    "                <output-pps>0</output-pps>\n",
    "            </traffic-statistics>\n",
    "            <active-alarms>\n",
    "                <interface-alarms>\n",
    "                    <ethernet-alarm-link-down/>\n",
    "                </interface-alarms>\n",
    "            </active-alarms>\n",
    "            <active-defects>\n",
    "                <interface-alarms>\n",
    "                    <ethernet-alarm-link-down/>\n",
    "                </interface-alarms>\n",
    "            </active-defects>\n",
    "            <ethernet-pcs-statistics>\n",
    "                <bit-error-seconds>0</bit-error-seconds>\n",
    "                <errored-blocks-seconds>0</errored-blocks-seconds>\n",
    "            </ethernet-pcs-statistics>\n",
    "            <ethernet-fec-mode>\n",
    "                <enabled_fec_mode></enabled_fec_mode>\n",
    "            </ethernet-fec-mode>\n",
    "            <ethernet-fec-statistics>\n",
    "                <fec_ccw_count>0</fec_ccw_count>\n",
    "                <fec_nccw_count>0</fec_nccw_count>\n",
    "                <fec_ccw_error_rate>0</fec_ccw_error_rate>\n",
    "                <fec_nccw_error_rate>0</fec_nccw_error_rate>\n",
    "            </ethernet-fec-statistics>\n",
    "            <interface-transmit-statistics>Disabled</interface-transmit-statistics>\n",
    "        </physical-interface>\n",
    "        <physical-interface>\n",
    "            <name>ge-2/0/7</name>\n",
    "            <admin-status>up</admin-status>\n",
    "            <oper-status>down</oper-status>\n",
    "            <local-index>157</local-index>\n",
    "            <snmp-index>522</snmp-index>\n",
    "            <link-level-type>Ethernet</link-level-type>\n",
    "            <mtu>1518</mtu>\n",
    "            <sonet-mode>LAN-PHY</sonet-mode>\n",
    "            <mru>1526</mru>\n",
    "            <source-filtering>disabled</source-filtering>\n",
    "            <speed>1000mbps</speed>\n",
    "            <eth-switch-error>none</eth-switch-error>\n",
    "            <bpdu-error>none</bpdu-error>\n",
    "            <ld-pdu-error>none</ld-pdu-error>\n",
    "            <l2pt-error>none</l2pt-error>\n",
    "            <loopback>disabled</loopback>\n",
    "            <if-flow-control>enabled</if-flow-control>\n",
    "            <if-auto-negotiation>enabled</if-auto-negotiation>\n",
    "            <if-remote-fault>online</if-remote-fault>\n",
    "            <pad-to-minimum-frame-size>Disabled</pad-to-minimum-frame-size>\n",
    "\n",
    "            <if-device-flags>\n",
    "                <ifdf-present/>\n",
    "                <ifdf-running/>\n",
    "                <ifdf-down/>\n",
    "            </if-device-flags>\n",
    "            <if-config-flags>\n",
    "                <iff-hardware-down/>\n",
    "                <iff-snmp-traps/>\n",
    "                <internal-flags>0x4000</internal-flags>\n",
    "            </if-config-flags>\n",
    "            <if-media-flags>\n",
    "                <internal-flags>0x2000</internal-flags>\n",
    "            </if-media-flags>\n",
    "            <physical-interface-cos-information>\n",
    "                <physical-interface-cos-hw-max-queues>8</physical-interface-cos-hw-max-queues>\n",
    "                <physical-interface-cos-use-max-queues>8</physical-interface-cos-use-max-queues>\n",
    "            </physical-interface-cos-information>\n",
    "            <current-physical-address>3c:61:04:41:7d:31</current-physical-address>\n",
    "            <hardware-physical-address>3c:61:04:41:7d:31</hardware-physical-address>\n",
    "            <interface-flapped>2019-07-23 01:40:06 UTC (03:05:07 ago)</interface-flapped>\n",
    "            <traffic-statistics>\n",
    "                <input-bps>0</input-bps>\n",
    "                <input-pps>0</input-pps>\n",
    "                <output-bps>0</output-bps>\n",
    "                <output-pps>0</output-pps>\n",
    "            </traffic-statistics>\n",
    "            <active-alarms>\n",
    "                <interface-alarms>\n",
    "                    <ethernet-alarm-link-down/>\n",
    "                </interface-alarms>\n",
    "            </active-alarms>\n",
    "            <active-defects>\n",
    "                <interface-alarms>\n",
    "                    <ethernet-alarm-link-down/>\n",
    "                </interface-alarms>\n",
    "            </active-defects>\n",
    "            <ethernet-pcs-statistics>\n",
    "                <bit-error-seconds>0</bit-error-seconds>\n",
    "                <errored-blocks-seconds>0</errored-blocks-seconds>\n",
    "            </ethernet-pcs-statistics>\n",
    "            <ethernet-fec-mode>\n",
    "                <enabled_fec_mode></enabled_fec_mode>\n",
    "            </ethernet-fec-mode>\n",
    "            <ethernet-fec-statistics>\n",
    "                <fec_ccw_count>0</fec_ccw_count>\n",
    "                <fec_nccw_count>0</fec_nccw_count>\n",
    "                <fec_ccw_error_rate>0</fec_ccw_error_rate>\n",
    "                <fec_nccw_error_rate>0</fec_nccw_error_rate>\n",
    "            </ethernet-fec-statistics>\n",
    "            <interface-transmit-statistics>Disabled</interface-transmit-statistics>\n",
    "            <logical-interface>\n",
    "                <name>ge-2/0/7.18</name>\n",
    "                <local-index>335</local-index>\n",
    "                <snmp-index>570</snmp-index>\n",
    "                <description>ge-2/0/7.18</description>\n",
    "                <if-config-flags>\n",
    "                    <iff-device-down/>\n",
    "                    <iff-snmp-traps/>\n",
    "                    <internal-flags>0x4000</internal-flags>\n",
    "                </if-config-flags>\n",
    "                <link-address>[ 0x8100.18 ] </link-address>\n",
    "                <encapsulation>ENET2</encapsulation>\n",
    "                <policer-overhead>\n",
    "                </policer-overhead>\n",
    "                <traffic-statistics>\n",
    "                    <input-packets>0</input-packets>\n",
    "                    <output-packets>0</output-packets>\n",
    "                </traffic-statistics>\n",
    "                <filter-information>\n",
    "                </filter-information>\n",
    "                <address-family>\n",
    "                    <address-family-name>inet</address-family-name>\n",
    "                    <mtu>1500</mtu>\n",
    "                    <max-local-cache>75000</max-local-cache>\n",
    "                    <new-hold-limit>75000</new-hold-limit>\n",
    "                    <intf-curr-cnt>1</intf-curr-cnt>\n",
    "                    <intf-unresolved-cnt>0</intf-unresolved-cnt>\n",
    "                    <intf-dropcnt>0</intf-dropcnt>\n",
    "                    <address-family-flags>\n",
    "                        <ifff-sendbcast-pkt-to-re/>\n",
    "                        <internal-flags>0x0</internal-flags>\n",
    "                    </address-family-flags>\n",
    "                    <interface-address>\n",
    "                        <ifa-flags>\n",
    "                            <ifaf-down/>\n",
    "                            <ifaf-current-preferred/>\n",
    "                            <ifaf-current-primary/>\n",
    "                            <internal-flags>0x4000</internal-flags>\n",
    "                        </ifa-flags>\n",
    "                        <ifa-destination>10.1.1/24</ifa-destination>\n",
    "                        <ifa-local>10.1.1.1</ifa-local>\n",
    "                        <ifa-broadcast>10.1.1.255</ifa-broadcast>\n",
    "                    </interface-address>\n",
    "                </address-family>\n",
    "                <address-family>\n",
    "                    <address-family-name>multiservice</address-family-name>\n",
    "                    <mtu>Unlimited</mtu>\n",
    "                    <address-family-flags>\n",
    "                        <internal-flags>0x0</internal-flags>\n",
    "                    </address-family-flags>\n",
    "                </address-family>\n",
    "            </logical-interface>\n",
    "            <logical-interface>\n",
    "                <name>ge-2/0/7.32767</name>\n",
    "                <local-index>336</local-index>\n",
    "                <snmp-index>571</snmp-index>\n",
    "                <if-config-flags>\n",
    "                    <iff-device-down/>\n",
    "                    <iff-snmp-traps/>\n",
    "                    <internal-flags>0x4004000</internal-flags>\n",
    "                </if-config-flags>\n",
    "                <link-address>[ 0x0000.0 ] </link-address>\n",
    "                <encapsulation>ENET2</encapsulation>\n",
    "                <policer-overhead>\n",
    "                </policer-overhead>\n",
    "                <traffic-statistics>\n",
    "                    <input-packets>0</input-packets>\n",
    "                    <output-packets>0</output-packets>\n",
    "                </traffic-statistics>\n",
    "                <filter-information>\n",
    "                </filter-information>\n",
    "                <address-family>\n",
    "                    <address-family-name>multiservice</address-family-name>\n",
    "                    <mtu>Unlimited</mtu>\n",
    "                    <address-family-flags>\n",
    "                        <ifff-none/>\n",
    "                    </address-family-flags>\n",
    "                </address-family>\n",
    "            </logical-interface>\n",
    "        </physical-interface>\n",
    "</interface-information>\n",
    "\"\"\""
   ]
  },
  {
   "cell_type": "code",
   "execution_count": 26,
   "metadata": {},
   "outputs": [],
   "source": [
    "obj = etree.fromstring(x)"
   ]
  },
  {
   "cell_type": "code",
   "execution_count": 27,
   "metadata": {},
   "outputs": [
    {
     "data": {
      "text/plain": [
       "<Element interface-information at 0x11017c948>"
      ]
     },
     "execution_count": 27,
     "metadata": {},
     "output_type": "execute_result"
    }
   ],
   "source": [
    "obj"
   ]
  },
  {
   "cell_type": "code",
   "execution_count": 36,
   "metadata": {},
   "outputs": [
    {
     "data": {
      "text/plain": [
       "[<Element name at 0x11059a848>]"
      ]
     },
     "execution_count": 36,
     "metadata": {},
     "output_type": "execute_result"
    }
   ],
   "source": [
    "obj.xpath('physical-interface/name[text()=\"ge-2/0/7\"]')"
   ]
  },
  {
   "cell_type": "code",
   "execution_count": null,
   "metadata": {},
   "outputs": [],
   "source": []
  }
 ],
 "metadata": {
  "kernelspec": {
   "display_name": "Python 3",
   "language": "python",
   "name": "python3"
  },
  "language_info": {
   "codemirror_mode": {
    "name": "ipython",
    "version": 3
   },
   "file_extension": ".py",
   "mimetype": "text/x-python",
   "name": "python",
   "nbconvert_exporter": "python",
   "pygments_lexer": "ipython3",
   "version": "3.6.7"
  }
 },
 "nbformat": 4,
 "nbformat_minor": 2
}
